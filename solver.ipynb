{
  "nbformat": 4,
  "nbformat_minor": 0,
  "metadata": {
    "colab": {
      "name": "Untitled0.ipynb",
      "provenance": [],
      "collapsed_sections": []
    },
    "kernelspec": {
      "name": "python3",
      "display_name": "Python 3"
    },
    "language_info": {
      "name": "python"
    }
  },
  "cells": [
    {
      "cell_type": "code",
      "source": [
        "from sympy import *"
      ],
      "metadata": {
        "id": "Q9BDdnEclund"
      },
      "execution_count": 4,
      "outputs": []
    },
    {
      "cell_type": "markdown",
      "source": [
        "enter the stencil you want to create in the next cell\n",
        "\n",
        "usually it is the inverse of what you find in the dungeon"
      ],
      "metadata": {
        "id": "NiYIwNbvyzTD"
      }
    },
    {
      "cell_type": "code",
      "execution_count": 30,
      "metadata": {
        "id": "sFzW0iValS3X"
      },
      "outputs": [],
      "source": [
        "A=Matrix([[1, 0, 0], [0, 0, 0],[0, 1, 1]]) "
      ]
    },
    {
      "cell_type": "code",
      "source": [
        "b=Matrix([A[0,0],A[2,0],A[2,2],A[0,2], A[1,0], A[2,1], A[1,2], A[0,1],A[1,1]])"
      ],
      "metadata": {
        "id": "rl91iEUkl7_0"
      },
      "execution_count": 33,
      "outputs": []
    },
    {
      "cell_type": "code",
      "source": [
        "A=Matrix([[1, 0, 0, 0, 1, 0, 0, 1, 0], [0, 1, 0, 0, 1, 1, 0, 0, 0], [0, 0, 1, \n",
        "  0, 0, 1, 1, 0, 0], [0, 0, 0, 1, 0, 0, 1, 1, 0], [1, 1, 0, 0, 1, 0, \n",
        "  0, 0, 1], [0, 1, 1, 0, 0, 1, 0, 0, 1], [0, 0, 1, 1, 0, 0, 1, 0, \n",
        "  1], [1, 0, 0, 1, 0, 0, 0, 1, 1], [0, 0, 0, 0, 1, 1, 1, 1, 1]])"
      ],
      "metadata": {
        "id": "d2JNiM5JmB4i"
      },
      "execution_count": 36,
      "outputs": []
    },
    {
      "cell_type": "code",
      "source": [
        "A.inv_mod(2)*b % 2"
      ],
      "metadata": {
        "colab": {
          "base_uri": "https://localhost:8080/",
          "height": 265
        },
        "id": "09-6UYNJmCwh",
        "outputId": "acecc200-c8b8-4da3-ec14-1cb1b857527f"
      },
      "execution_count": 37,
      "outputs": [
        {
          "output_type": "execute_result",
          "data": {
            "text/plain": [
              "Matrix([\n",
              "[0],\n",
              "[0],\n",
              "[1],\n",
              "[1],\n",
              "[1],\n",
              "[1],\n",
              "[1],\n",
              "[0],\n",
              "[1]])"
            ],
            "text/latex": "$\\displaystyle \\left[\\begin{matrix}0\\\\0\\\\1\\\\1\\\\1\\\\1\\\\1\\\\0\\\\1\\end{matrix}\\right]$"
          },
          "metadata": {},
          "execution_count": 37
        }
      ]
    }
  ]
}
