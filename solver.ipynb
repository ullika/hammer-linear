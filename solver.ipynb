{
  "nbformat": 4,
  "nbformat_minor": 0,
  "metadata": {
    "colab": {
      "name": "Untitled0.ipynb",
      "provenance": [],
      "collapsed_sections": []
    },
    "kernelspec": {
      "name": "python3",
      "display_name": "Python 3"
    },
    "language_info": {
      "name": "python"
    }
  },
  "cells": [
    {
      "cell_type": "code",
      "source": [
        "from sympy import *"
      ],
      "metadata": {
        "id": "Q9BDdnEclund"
      },
      "execution_count": 4,
      "outputs": []
    },
    {
      "cell_type": "markdown",
      "source": [
        "enter the stencil you want to create in the next cell\n",
        "\n",
        "usually it is the inverse of what you find in the dungeon"
      ],
      "metadata": {
        "id": "NiYIwNbvyzTD"
      }
    },
    {
      "cell_type": "code",
      "execution_count": 55,
      "metadata": {
        "id": "sFzW0iValS3X"
      },
      "outputs": [],
      "source": [
        "A=Matrix([\n",
        "          [1, 0, 0], \n",
        "          [0, 0, 0],\n",
        "          [0, 1, 1]\n",
        "          ]) "
      ]
    },
    {
      "cell_type": "code",
      "source": [
        "b=Matrix([A[0,0],A[2,0],A[2,2],A[0,2], A[1,0], A[2,1], A[1,2], A[0,1],A[1,1]])"
      ],
      "metadata": {
        "id": "rl91iEUkl7_0"
      },
      "execution_count": 56,
      "outputs": []
    },
    {
      "cell_type": "code",
      "source": [
        "A=Matrix([[1, 0, 0, 0, 1, 0, 0, 1, 0], [0, 1, 0, 0, 1, 1, 0, 0, 0], [0, 0, 1, \n",
        "  0, 0, 1, 1, 0, 0], [0, 0, 0, 1, 0, 0, 1, 1, 0], [1, 1, 0, 0, 1, 0, \n",
        "  0, 0, 1], [0, 1, 1, 0, 0, 1, 0, 0, 1], [0, 0, 1, 1, 0, 0, 1, 0, \n",
        "  1], [1, 0, 0, 1, 0, 0, 0, 1, 1], [0, 0, 0, 0, 1, 1, 1, 1, 1]])"
      ],
      "metadata": {
        "id": "d2JNiM5JmB4i"
      },
      "execution_count": 36,
      "outputs": []
    },
    {
      "cell_type": "code",
      "source": [
        "x=A.inv_mod(2)*b % 2"
      ],
      "metadata": {
        "id": "09-6UYNJmCwh"
      },
      "execution_count": 38,
      "outputs": []
    },
    {
      "cell_type": "code",
      "source": [
        "text = [\"oben links\", \"unten links\", \"unten rechts\", \"oben rechts\", \n",
        "  \"links\", \"unten\", \"rechts\", \"oben\", \"mitte\"]"
      ],
      "metadata": {
        "id": "592N4HSe6Nxy"
      },
      "execution_count": 49,
      "outputs": []
    },
    {
      "cell_type": "code",
      "source": [
        "for i in range(len(x)): \n",
        "  if 1==x[i]: print(text[i])"
      ],
      "metadata": {
        "colab": {
          "base_uri": "https://localhost:8080/"
        },
        "id": "s4VR3Hdd6Sur",
        "outputId": "1b30433f-36da-45a2-fc99-3cf56a85c5c9"
      },
      "execution_count": 54,
      "outputs": [
        {
          "output_type": "stream",
          "name": "stdout",
          "text": [
            "unten rechts\n",
            "oben rechts\n",
            "links\n",
            "unten\n",
            "rechts\n",
            "mitte\n"
          ]
        }
      ]
    }
  ]
}
